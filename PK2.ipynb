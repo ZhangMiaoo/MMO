{
  "cells": [
    {
      "cell_type": "markdown",
      "id": "YFKocFwm2zPR",
      "metadata": {
        "id": "YFKocFwm2zPR"
      },
      "source": [
        "# Рубежный контроль №2\n",
        "Тема: Методы обработки текстов. Решение задачи классификации.\n",
        "\n",
        "Выполнил:\n",
        "Чжан Мяо\n",
        "\n",
        "Группа:\n",
        "ИУ5И-23М"
      ]
    },
    {
      "cell_type": "code",
      "execution_count": 1,
      "id": "d1d47137",
      "metadata": {
        "id": "d1d47137"
      },
      "outputs": [],
      "source": [
        "import pandas as pd\n",
        "from sklearn.model_selection import train_test_split\n",
        "from sklearn.feature_extraction.text import CountVectorizer, TfidfVectorizer\n",
        "from sklearn.linear_model import LogisticRegression\n",
        "from sklearn.svm import LinearSVC\n",
        "from sklearn.metrics import accuracy_score, classification_report"
      ]
    },
    {
      "cell_type": "code",
      "execution_count": null,
      "id": "a0b1692f",
      "metadata": {
        "id": "a0b1692f"
      },
      "outputs": [],
      "source": [
        "# Загрузим датасет\n",
        "data = pd.read_csv('BilibiliCommentsDataSet.csv')\n",
        "# Удалим пропущенные значения\n",
        "data_clean = data.dropna(subset=['Comment', 'Sentiment'])\n",
        "\n",
        "# Разделим на train/test\n",
        "X = data_clean['Comment']\n",
        "y = data_clean['Sentiment']\n",
        "X_train, X_test, y_train, y_test = train_test_split(\n",
        "    X, y, test_size=0.2, random_state=42, stratify=y\n",
        ")"
      ]
    },
    {
      "cell_type": "code",
      "execution_count": 3,
      "id": "e6765bfa",
      "metadata": {
        "id": "e6765bfa"
      },
      "outputs": [],
      "source": [
        "# Векторизация\n",
        "count_vectorizer = CountVectorizer()\n",
        "X_train_count = count_vectorizer.fit_transform(X_train)\n",
        "X_test_count = count_vectorizer.transform(X_test)\n",
        "\n",
        "tfidf_vectorizer = TfidfVectorizer()\n",
        "X_train_tfidf = tfidf_vectorizer.fit_transform(X_train)\n",
        "X_test_tfidf = tfidf_vectorizer.transform(X_test)"
      ]
    },
    {
      "cell_type": "code",
      "execution_count": 4,
      "id": "05d63e9e",
      "metadata": {
        "id": "05d63e9e"
      },
      "outputs": [],
      "source": [
        "# Функция для обучения и оценки\n",
        "def train_and_evaluate(model, X_train, y_train, X_test, y_test):\n",
        "    model.fit(X_train, y_train)\n",
        "    y_pred = model.predict(X_test)\n",
        "    accuracy = accuracy_score(y_test, y_pred)\n",
        "    report = classification_report(y_test, y_pred)\n",
        "    return accuracy, report"
      ]
    },
    {
      "cell_type": "code",
      "execution_count": 5,
      "id": "9e43e0d7",
      "metadata": {
        "id": "9e43e0d7"
      },
      "outputs": [],
      "source": [
        "# Обучим и оценим\n",
        "results = {}\n",
        "\n",
        "# CountVectorizer + LogisticRegression\n",
        "model_lr = LogisticRegression(max_iter=1000, random_state=42)\n",
        "acc, report = train_and_evaluate(model_lr, X_train_count, y_train, X_test_count, y_test)\n",
        "results['CountVectorizer + LogisticRegression'] = (acc, report)\n",
        "\n",
        "# CountVectorizer + LinearSVC\n",
        "model_svc = LinearSVC(random_state=42, max_iter=10000)\n",
        "acc, report = train_and_evaluate(model_svc, X_train_count, y_train, X_test_count, y_test)\n",
        "results['CountVectorizer + LinearSVC'] = (acc, report)\n",
        "\n",
        "# TfidfVectorizer + LogisticRegression\n",
        "model_lr_tfidf = LogisticRegression(max_iter=1000, random_state=42)\n",
        "acc, report = train_and_evaluate(model_lr_tfidf, X_train_tfidf, y_train, X_test_tfidf, y_test)\n",
        "results['TfidfVectorizer + LogisticRegression'] = (acc, report)\n",
        "\n",
        "# TfidfVectorizer + LinearSVC\n",
        "model_svc_tfidf = LinearSVC(random_state=42, max_iter=10000)\n",
        "acc, report = train_and_evaluate(model_svc_tfidf, X_train_tfidf, y_train, X_test_tfidf, y_test)\n",
        "results['TfidfVectorizer + LinearSVC'] = (acc, report)"
      ]
    },
    {
      "cell_type": "code",
      "execution_count": 6,
      "id": "b5a6fc08",
      "metadata": {
        "colab": {
          "base_uri": "https://localhost:8080/"
        },
        "id": "b5a6fc08",
        "outputId": "6fb75cc9-705a-4bc1-bb4a-305899c9a6eb"
      },
      "outputs": [
        {
          "name": "stdout",
          "output_type": "stream",
          "text": [
            "CountVectorizer + LogisticRegression: Accuracy = 0.7610\n",
            "              precision    recall  f1-score   support\n",
            "\n",
            "    negative       0.62      0.42      0.50       467\n",
            "     neutral       0.61      0.63      0.62       925\n",
            "    positive       0.84      0.88      0.86      2281\n",
            "\n",
            "    accuracy                           0.76      3673\n",
            "   macro avg       0.69      0.64      0.66      3673\n",
            "weighted avg       0.75      0.76      0.75      3673\n",
            "\n",
            "--------------------------------------------------------------------------------\n",
            "CountVectorizer + LinearSVC: Accuracy = 0.7441\n",
            "              precision    recall  f1-score   support\n",
            "\n",
            "    negative       0.54      0.45      0.49       467\n",
            "     neutral       0.59      0.59      0.59       925\n",
            "    positive       0.84      0.86      0.85      2281\n",
            "\n",
            "    accuracy                           0.74      3673\n",
            "   macro avg       0.66      0.64      0.65      3673\n",
            "weighted avg       0.74      0.74      0.74      3673\n",
            "\n",
            "--------------------------------------------------------------------------------\n",
            "TfidfVectorizer + LogisticRegression: Accuracy = 0.7607\n",
            "              precision    recall  f1-score   support\n",
            "\n",
            "    negative       0.74      0.33      0.46       467\n",
            "     neutral       0.65      0.61      0.63       925\n",
            "    positive       0.80      0.91      0.85      2281\n",
            "\n",
            "    accuracy                           0.76      3673\n",
            "   macro avg       0.73      0.62      0.65      3673\n",
            "weighted avg       0.75      0.76      0.75      3673\n",
            "\n",
            "--------------------------------------------------------------------------------\n",
            "TfidfVectorizer + LinearSVC: Accuracy = 0.7615\n",
            "              precision    recall  f1-score   support\n",
            "\n",
            "    negative       0.65      0.45      0.53       467\n",
            "     neutral       0.63      0.61      0.62       925\n",
            "    positive       0.82      0.89      0.85      2281\n",
            "\n",
            "    accuracy                           0.76      3673\n",
            "   macro avg       0.70      0.65      0.67      3673\n",
            "weighted avg       0.75      0.76      0.75      3673\n",
            "\n",
            "--------------------------------------------------------------------------------\n"
          ]
        }
      ],
      "source": [
        "# Выведем результаты\n",
        "for k, v in results.items():\n",
        "    print(f\"{k}: Accuracy = {v[0]:.4f}\")\n",
        "    print(v[1])\n",
        "    print(\"-\"*80)"
      ]
    },
    {
      "cell_type": "markdown",
      "id": "252670c5",
      "metadata": {
        "id": "252670c5"
      },
      "source": [
        "**Вывод:**\n",
        "- Все комбинации с TfidfVectorizer или LogisticRegression показывают схожее качество (accuracy ≈ 0.76).\n",
        "- Чуть хуже результат у CountVectorizer + LinearSVC (accuracy ≈ 0.74).\n",
        "- Модель TfidfVectorizer + LinearSVC показала немного более сбалансированные результаты по классам."
      ]
    }
  ],
  "metadata": {
    "colab": {
      "provenance": []
    },
    "kernelspec": {
      "display_name": "Python 3 (ipykernel)",
      "language": "python",
      "name": "python3"
    },
    "language_info": {
      "name": "python",
      "version": "3.11"
    }
  },
  "nbformat": 4,
  "nbformat_minor": 5
}
